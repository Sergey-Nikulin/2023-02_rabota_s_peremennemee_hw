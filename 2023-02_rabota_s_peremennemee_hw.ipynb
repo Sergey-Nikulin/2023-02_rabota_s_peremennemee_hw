{
 "cells": [
  {
   "cell_type": "code",
   "execution_count": 41,
   "id": "7cfadedb",
   "metadata": {},
   "outputs": [],
   "source": [
    "import matplotlib.pyplot as plt\n",
    "import seaborn as sns\n",
    "import numpy as np\n",
    "import pandas as pd\n",
    "\n",
    "from sklearn.pipeline import Pipeline\n",
    "from sklearn.preprocessing import RobustScaler\n",
    "from sklearn.preprocessing import StandardScaler\n",
    "from sklearn.datasets import fetch_california_housing\n",
    "from sklearn.model_selection import train_test_split\n",
    "from sklearn.model_selection import GridSearchCV\n",
    "from sklearn.metrics import mean_squared_error, r2_score, make_scorer\n",
    "import math\n",
    "\n",
    "from sklearn.linear_model import LinearRegression\n",
    "from sklearn.model_selection import train_test_split\n",
    "\n",
    "import warnings\n",
    "warnings.filterwarnings(action='ignore')\n",
    "\n",
    "%matplotlib inline\n",
    "plt.rcParams['figure.figsize'] = (15, 5)\n",
    "    \n",
    "california = fetch_california_housing()"
   ]
  },
  {
   "cell_type": "code",
   "execution_count": 42,
   "id": "0fd57848",
   "metadata": {},
   "outputs": [
    {
     "name": "stdout",
     "output_type": "stream",
     "text": [
      ".. _california_housing_dataset:\n",
      "\n",
      "California Housing dataset\n",
      "--------------------------\n",
      "\n",
      "**Data Set Characteristics:**\n",
      "\n",
      "    :Number of Instances: 20640\n",
      "\n",
      "    :Number of Attributes: 8 numeric, predictive attributes and the target\n",
      "\n",
      "    :Attribute Information:\n",
      "        - MedInc        median income in block group\n",
      "        - HouseAge      median house age in block group\n",
      "        - AveRooms      average number of rooms per household\n",
      "        - AveBedrms     average number of bedrooms per household\n",
      "        - Population    block group population\n",
      "        - AveOccup      average number of household members\n",
      "        - Latitude      block group latitude\n",
      "        - Longitude     block group longitude\n",
      "\n",
      "    :Missing Attribute Values: None\n",
      "\n",
      "This dataset was obtained from the StatLib repository.\n",
      "https://www.dcc.fc.up.pt/~ltorgo/Regression/cal_housing.html\n",
      "\n",
      "The target variable is the median house value for California districts,\n",
      "expressed in hundreds of thousands of dollars ($100,000).\n",
      "\n",
      "This dataset was derived from the 1990 U.S. census, using one row per census\n",
      "block group. A block group is the smallest geographical unit for which the U.S.\n",
      "Census Bureau publishes sample data (a block group typically has a population\n",
      "of 600 to 3,000 people).\n",
      "\n",
      "An household is a group of people residing within a home. Since the average\n",
      "number of rooms and bedrooms in this dataset are provided per household, these\n",
      "columns may take surpinsingly large values for block groups with few households\n",
      "and many empty houses, such as vacation resorts.\n",
      "\n",
      "It can be downloaded/loaded using the\n",
      ":func:`sklearn.datasets.fetch_california_housing` function.\n",
      "\n",
      ".. topic:: References\n",
      "\n",
      "    - Pace, R. Kelley and Ronald Barry, Sparse Spatial Autoregressions,\n",
      "      Statistics and Probability Letters, 33 (1997) 291-297\n",
      "\n"
     ]
    }
   ],
   "source": [
    "print(california.DESCR)\n",
    "# print(fetch_california_housing().DESCR)"
   ]
  },
  {
   "cell_type": "code",
   "execution_count": 43,
   "id": "dda1fe5e",
   "metadata": {},
   "outputs": [
    {
     "data": {
      "text/plain": [
       "['MedInc',\n",
       " 'HouseAge',\n",
       " 'AveRooms',\n",
       " 'AveBedrms',\n",
       " 'Population',\n",
       " 'AveOccup',\n",
       " 'Latitude',\n",
       " 'Longitude']"
      ]
     },
     "execution_count": 43,
     "metadata": {},
     "output_type": "execute_result"
    }
   ],
   "source": [
    "california.feature_names"
   ]
  },
  {
   "cell_type": "code",
   "execution_count": 44,
   "id": "e5c95cce",
   "metadata": {},
   "outputs": [
    {
     "data": {
      "text/html": [
       "<div>\n",
       "<style scoped>\n",
       "    .dataframe tbody tr th:only-of-type {\n",
       "        vertical-align: middle;\n",
       "    }\n",
       "\n",
       "    .dataframe tbody tr th {\n",
       "        vertical-align: top;\n",
       "    }\n",
       "\n",
       "    .dataframe thead th {\n",
       "        text-align: right;\n",
       "    }\n",
       "</style>\n",
       "<table border=\"1\" class=\"dataframe\">\n",
       "  <thead>\n",
       "    <tr style=\"text-align: right;\">\n",
       "      <th></th>\n",
       "      <th>MedInc</th>\n",
       "      <th>HouseAge</th>\n",
       "      <th>AveRooms</th>\n",
       "      <th>AveBedrms</th>\n",
       "      <th>Population</th>\n",
       "      <th>AveOccup</th>\n",
       "      <th>Latitude</th>\n",
       "      <th>Longitude</th>\n",
       "      <th>price</th>\n",
       "    </tr>\n",
       "  </thead>\n",
       "  <tbody>\n",
       "    <tr>\n",
       "      <th>0</th>\n",
       "      <td>8.3252</td>\n",
       "      <td>41.0</td>\n",
       "      <td>6.984127</td>\n",
       "      <td>1.023810</td>\n",
       "      <td>322.0</td>\n",
       "      <td>2.555556</td>\n",
       "      <td>37.88</td>\n",
       "      <td>-122.23</td>\n",
       "      <td>4.526</td>\n",
       "    </tr>\n",
       "    <tr>\n",
       "      <th>1</th>\n",
       "      <td>8.3014</td>\n",
       "      <td>21.0</td>\n",
       "      <td>6.238137</td>\n",
       "      <td>0.971880</td>\n",
       "      <td>2401.0</td>\n",
       "      <td>2.109842</td>\n",
       "      <td>37.86</td>\n",
       "      <td>-122.22</td>\n",
       "      <td>3.585</td>\n",
       "    </tr>\n",
       "    <tr>\n",
       "      <th>2</th>\n",
       "      <td>7.2574</td>\n",
       "      <td>52.0</td>\n",
       "      <td>8.288136</td>\n",
       "      <td>1.073446</td>\n",
       "      <td>496.0</td>\n",
       "      <td>2.802260</td>\n",
       "      <td>37.85</td>\n",
       "      <td>-122.24</td>\n",
       "      <td>3.521</td>\n",
       "    </tr>\n",
       "    <tr>\n",
       "      <th>3</th>\n",
       "      <td>5.6431</td>\n",
       "      <td>52.0</td>\n",
       "      <td>5.817352</td>\n",
       "      <td>1.073059</td>\n",
       "      <td>558.0</td>\n",
       "      <td>2.547945</td>\n",
       "      <td>37.85</td>\n",
       "      <td>-122.25</td>\n",
       "      <td>3.413</td>\n",
       "    </tr>\n",
       "    <tr>\n",
       "      <th>4</th>\n",
       "      <td>3.8462</td>\n",
       "      <td>52.0</td>\n",
       "      <td>6.281853</td>\n",
       "      <td>1.081081</td>\n",
       "      <td>565.0</td>\n",
       "      <td>2.181467</td>\n",
       "      <td>37.85</td>\n",
       "      <td>-122.25</td>\n",
       "      <td>3.422</td>\n",
       "    </tr>\n",
       "  </tbody>\n",
       "</table>\n",
       "</div>"
      ],
      "text/plain": [
       "   MedInc  HouseAge  AveRooms  AveBedrms  Population  AveOccup  Latitude  \\\n",
       "0  8.3252      41.0  6.984127   1.023810       322.0  2.555556     37.88   \n",
       "1  8.3014      21.0  6.238137   0.971880      2401.0  2.109842     37.86   \n",
       "2  7.2574      52.0  8.288136   1.073446       496.0  2.802260     37.85   \n",
       "3  5.6431      52.0  5.817352   1.073059       558.0  2.547945     37.85   \n",
       "4  3.8462      52.0  6.281853   1.081081       565.0  2.181467     37.85   \n",
       "\n",
       "   Longitude  price  \n",
       "0    -122.23  4.526  \n",
       "1    -122.22  3.585  \n",
       "2    -122.24  3.521  \n",
       "3    -122.25  3.413  \n",
       "4    -122.25  3.422  "
      ]
     },
     "execution_count": 44,
     "metadata": {},
     "output_type": "execute_result"
    }
   ],
   "source": [
    "concat_california_array = np.concatenate((california.data, np.reshape(california.target, (california.target.shape[0],1))), axis = 1)\n",
    "\n",
    "california_df = pd.DataFrame(concat_california_array, columns = california.feature_names + ['price'])\n",
    "\n",
    "california_df.head()"
   ]
  },
  {
   "cell_type": "code",
   "execution_count": 45,
   "id": "2032a10b",
   "metadata": {},
   "outputs": [
    {
     "data": {
      "text/html": [
       "<div>\n",
       "<style scoped>\n",
       "    .dataframe tbody tr th:only-of-type {\n",
       "        vertical-align: middle;\n",
       "    }\n",
       "\n",
       "    .dataframe tbody tr th {\n",
       "        vertical-align: top;\n",
       "    }\n",
       "\n",
       "    .dataframe thead th {\n",
       "        text-align: right;\n",
       "    }\n",
       "</style>\n",
       "<table border=\"1\" class=\"dataframe\">\n",
       "  <thead>\n",
       "    <tr style=\"text-align: right;\">\n",
       "      <th></th>\n",
       "      <th>MedInc</th>\n",
       "      <th>HouseAge</th>\n",
       "      <th>AveRooms</th>\n",
       "      <th>AveBedrms</th>\n",
       "      <th>Population</th>\n",
       "      <th>AveOccup</th>\n",
       "      <th>Latitude</th>\n",
       "      <th>Longitude</th>\n",
       "      <th>price</th>\n",
       "    </tr>\n",
       "  </thead>\n",
       "  <tbody>\n",
       "    <tr>\n",
       "      <th>count</th>\n",
       "      <td>20640.000000</td>\n",
       "      <td>20640.000000</td>\n",
       "      <td>20640.000000</td>\n",
       "      <td>20640.000000</td>\n",
       "      <td>20640.000000</td>\n",
       "      <td>20640.000000</td>\n",
       "      <td>20640.000000</td>\n",
       "      <td>20640.000000</td>\n",
       "      <td>20640.000000</td>\n",
       "    </tr>\n",
       "    <tr>\n",
       "      <th>mean</th>\n",
       "      <td>3.870671</td>\n",
       "      <td>28.639486</td>\n",
       "      <td>5.429000</td>\n",
       "      <td>1.096675</td>\n",
       "      <td>1425.476744</td>\n",
       "      <td>3.070655</td>\n",
       "      <td>35.631861</td>\n",
       "      <td>-119.569704</td>\n",
       "      <td>2.068558</td>\n",
       "    </tr>\n",
       "    <tr>\n",
       "      <th>std</th>\n",
       "      <td>1.899822</td>\n",
       "      <td>12.585558</td>\n",
       "      <td>2.474173</td>\n",
       "      <td>0.473911</td>\n",
       "      <td>1132.462122</td>\n",
       "      <td>10.386050</td>\n",
       "      <td>2.135952</td>\n",
       "      <td>2.003532</td>\n",
       "      <td>1.153956</td>\n",
       "    </tr>\n",
       "    <tr>\n",
       "      <th>min</th>\n",
       "      <td>0.499900</td>\n",
       "      <td>1.000000</td>\n",
       "      <td>0.846154</td>\n",
       "      <td>0.333333</td>\n",
       "      <td>3.000000</td>\n",
       "      <td>0.692308</td>\n",
       "      <td>32.540000</td>\n",
       "      <td>-124.350000</td>\n",
       "      <td>0.149990</td>\n",
       "    </tr>\n",
       "    <tr>\n",
       "      <th>25%</th>\n",
       "      <td>2.563400</td>\n",
       "      <td>18.000000</td>\n",
       "      <td>4.440716</td>\n",
       "      <td>1.006079</td>\n",
       "      <td>787.000000</td>\n",
       "      <td>2.429741</td>\n",
       "      <td>33.930000</td>\n",
       "      <td>-121.800000</td>\n",
       "      <td>1.196000</td>\n",
       "    </tr>\n",
       "    <tr>\n",
       "      <th>50%</th>\n",
       "      <td>3.534800</td>\n",
       "      <td>29.000000</td>\n",
       "      <td>5.229129</td>\n",
       "      <td>1.048780</td>\n",
       "      <td>1166.000000</td>\n",
       "      <td>2.818116</td>\n",
       "      <td>34.260000</td>\n",
       "      <td>-118.490000</td>\n",
       "      <td>1.797000</td>\n",
       "    </tr>\n",
       "    <tr>\n",
       "      <th>75%</th>\n",
       "      <td>4.743250</td>\n",
       "      <td>37.000000</td>\n",
       "      <td>6.052381</td>\n",
       "      <td>1.099526</td>\n",
       "      <td>1725.000000</td>\n",
       "      <td>3.282261</td>\n",
       "      <td>37.710000</td>\n",
       "      <td>-118.010000</td>\n",
       "      <td>2.647250</td>\n",
       "    </tr>\n",
       "    <tr>\n",
       "      <th>max</th>\n",
       "      <td>15.000100</td>\n",
       "      <td>52.000000</td>\n",
       "      <td>141.909091</td>\n",
       "      <td>34.066667</td>\n",
       "      <td>35682.000000</td>\n",
       "      <td>1243.333333</td>\n",
       "      <td>41.950000</td>\n",
       "      <td>-114.310000</td>\n",
       "      <td>5.000010</td>\n",
       "    </tr>\n",
       "  </tbody>\n",
       "</table>\n",
       "</div>"
      ],
      "text/plain": [
       "             MedInc      HouseAge      AveRooms     AveBedrms    Population  \\\n",
       "count  20640.000000  20640.000000  20640.000000  20640.000000  20640.000000   \n",
       "mean       3.870671     28.639486      5.429000      1.096675   1425.476744   \n",
       "std        1.899822     12.585558      2.474173      0.473911   1132.462122   \n",
       "min        0.499900      1.000000      0.846154      0.333333      3.000000   \n",
       "25%        2.563400     18.000000      4.440716      1.006079    787.000000   \n",
       "50%        3.534800     29.000000      5.229129      1.048780   1166.000000   \n",
       "75%        4.743250     37.000000      6.052381      1.099526   1725.000000   \n",
       "max       15.000100     52.000000    141.909091     34.066667  35682.000000   \n",
       "\n",
       "           AveOccup      Latitude     Longitude         price  \n",
       "count  20640.000000  20640.000000  20640.000000  20640.000000  \n",
       "mean       3.070655     35.631861   -119.569704      2.068558  \n",
       "std       10.386050      2.135952      2.003532      1.153956  \n",
       "min        0.692308     32.540000   -124.350000      0.149990  \n",
       "25%        2.429741     33.930000   -121.800000      1.196000  \n",
       "50%        2.818116     34.260000   -118.490000      1.797000  \n",
       "75%        3.282261     37.710000   -118.010000      2.647250  \n",
       "max     1243.333333     41.950000   -114.310000      5.000010  "
      ]
     },
     "execution_count": 45,
     "metadata": {},
     "output_type": "execute_result"
    }
   ],
   "source": [
    "california_df.describe()"
   ]
  },
  {
   "cell_type": "code",
   "execution_count": 46,
   "id": "2723c05f",
   "metadata": {},
   "outputs": [
    {
     "name": "stdout",
     "output_type": "stream",
     "text": [
      "<class 'pandas.core.frame.DataFrame'>\n",
      "RangeIndex: 20640 entries, 0 to 20639\n",
      "Data columns (total 9 columns):\n",
      " #   Column      Non-Null Count  Dtype  \n",
      "---  ------      --------------  -----  \n",
      " 0   MedInc      20640 non-null  float64\n",
      " 1   HouseAge    20640 non-null  float64\n",
      " 2   AveRooms    20640 non-null  float64\n",
      " 3   AveBedrms   20640 non-null  float64\n",
      " 4   Population  20640 non-null  float64\n",
      " 5   AveOccup    20640 non-null  float64\n",
      " 6   Latitude    20640 non-null  float64\n",
      " 7   Longitude   20640 non-null  float64\n",
      " 8   price       20640 non-null  float64\n",
      "dtypes: float64(9)\n",
      "memory usage: 1.4 MB\n"
     ]
    },
    {
     "data": {
      "text/plain": [
       "MedInc        0\n",
       "HouseAge      0\n",
       "AveRooms      0\n",
       "AveBedrms     0\n",
       "Population    0\n",
       "AveOccup      0\n",
       "Latitude      0\n",
       "Longitude     0\n",
       "price         0\n",
       "dtype: int64"
      ]
     },
     "execution_count": 46,
     "metadata": {},
     "output_type": "execute_result"
    }
   ],
   "source": [
    "california_df.info() # пропусков нет\n",
    "california_df.isnull().sum()"
   ]
  },
  {
   "cell_type": "code",
   "execution_count": null,
   "id": "21689994",
   "metadata": {},
   "outputs": [],
   "source": []
  },
  {
   "cell_type": "markdown",
   "id": "09552f7c",
   "metadata": {},
   "source": [
    "Постройте модель линейной регрессии. Вычислите метрики RMSE, R2 на обучающем и тестовом множестве."
   ]
  },
  {
   "cell_type": "code",
   "execution_count": 47,
   "id": "57592c19",
   "metadata": {},
   "outputs": [],
   "source": [
    "def get_score(X,y, random_seed=42, model=None):\n",
    "    if model is None:\n",
    "        model = LinearRegression()\n",
    "\n",
    "    X_train, X_test, y_train, y_test = train_test_split(X, y, test_size=0.2, random_state=random_seed) \n",
    "\n",
    "    scaler = StandardScaler()\n",
    "    X_train = scaler.fit_transform(X_train)\n",
    "    X_test = scaler.transform(X_test)\n",
    "\n",
    "    model.fit(X_train, y_train)\n",
    "    \n",
    "    mse_tr = mean_squared_error(y_train, model.predict(X_train))\n",
    "    rmse_tr = math.sqrt(mse_tr)\n",
    "    \n",
    "    mse_ts = mean_squared_error(y_test, model.predict(X_test))\n",
    "    rmse_ts = math.sqrt(mse_ts)\n",
    "    \n",
    "    print(\"RMSE TRAIN:\", rmse_tr)\n",
    "    print(\"RMSE TEST:\", rmse_ts)\n",
    "\n",
    "    print(\"R2 TRAIN:\", r2_score(y_train, model.predict(X_train)))\n",
    "    print(\"R2 TEST:\", r2_score(y_test, model.predict(X_test)))\n",
    "    \n",
    "#     return model.score(X_train, y_train), model.score(X_test, y_test)\n",
    "\n"
   ]
  },
  {
   "cell_type": "code",
   "execution_count": 48,
   "id": "6d111be4",
   "metadata": {},
   "outputs": [],
   "source": [
    "columns = ['MedInc',\n",
    "    'HouseAge',\n",
    "    'AveRooms',\n",
    "    'AveBedrms',\n",
    "    'Population',\n",
    "    'AveOccup',\n",
    "    'Latitude',\n",
    "    'Longitude'\n",
    "]\n",
    "\n",
    "target = ['price']"
   ]
  },
  {
   "cell_type": "code",
   "execution_count": 49,
   "id": "d82032c9",
   "metadata": {},
   "outputs": [
    {
     "name": "stdout",
     "output_type": "stream",
     "text": [
      "RMSE TRAIN: 0.7196757085831575\n",
      "RMSE TEST: 0.7455813830127763\n",
      "R2 TRAIN: 0.6125511913966952\n",
      "R2 TEST: 0.575787706032451\n"
     ]
    }
   ],
   "source": [
    "get_score(california_df[columns], california_df[target])\n",
    "# RMSE - высокая, R2 - средний. Тестовый результат ниже тренирововчного. Переобучение."
   ]
  },
  {
   "cell_type": "code",
   "execution_count": null,
   "id": "47352cc7",
   "metadata": {},
   "outputs": [],
   "source": []
  },
  {
   "cell_type": "markdown",
   "id": "375932e2",
   "metadata": {},
   "source": [
    "Постройте график распределения целевой переменной. Сделайте вывод. Присутствуют ли в этом признаке выбросы?"
   ]
  },
  {
   "cell_type": "code",
   "execution_count": 50,
   "id": "38f4716c",
   "metadata": {},
   "outputs": [
    {
     "data": {
      "image/png": "[encoded data removed]",
      "text/plain": [
       "<Figure size 1080x360 with 1 Axes>"
      ]
     },
     "metadata": {
      "needs_background": "light"
     },
     "output_type": "display_data"
    }
   ],
   "source": [
    "sns.histplot(data=california_df, x='price')\n",
    "\n",
    "plt.title('график распределения целевой переменной (price)')\n",
    "plt.grid()"
   ]
  },
  {
   "cell_type": "code",
   "execution_count": 51,
   "id": "d749097a",
   "metadata": {},
   "outputs": [],
   "source": [
    "# выбросы в целевой переменной отсутсвуют"
   ]
  },
  {
   "cell_type": "code",
   "execution_count": 52,
   "id": "1d62e463",
   "metadata": {},
   "outputs": [],
   "source": [
    "def get_boxplot(X, columns=[]):\n",
    "    for i in columns:\n",
    "        sns.boxplot(x=X[i])\n",
    "    pass  \n",
    "   "
   ]
  },
  {
   "cell_type": "code",
   "execution_count": 53,
   "id": "7797258d",
   "metadata": {},
   "outputs": [
    {
     "data": {
      "image/png": "[encoded data removed]",
      "text/plain": [
       "<Figure size 1080x360 with 1 Axes>"
      ]
     },
     "metadata": {
      "needs_background": "light"
     },
     "output_type": "display_data"
    }
   ],
   "source": [
    "get_boxplot(california_df, columns=['price'])"
   ]
  },
  {
   "cell_type": "code",
   "execution_count": 54,
   "id": "c45dd791",
   "metadata": {},
   "outputs": [],
   "source": [
    "# get_pairplot(california_df)"
   ]
  },
  {
   "cell_type": "markdown",
   "id": "c1fcce2d",
   "metadata": {},
   "source": [
    "Посчитайте и выведите корреляционную матрицу. Убедитесь, что ячейки матрицы поделены на цветные категории, в ячейках указано числовое значение корреляции.\n",
    "- a. Сделайте выводы.\n",
    "- b. Удалите признаки на основании полученных значений, выводов.\n",
    "- c. Повторите п. 3, п. 4 на измененных данных."
   ]
  },
  {
   "cell_type": "code",
   "execution_count": 55,
   "id": "2ed19dea",
   "metadata": {},
   "outputs": [
    {
     "data": {
      "image/png": "[encoded data removed]",
      "text/plain": [
       "<Figure size 792x504 with 1 Axes>"
      ]
     },
     "metadata": {
      "needs_background": "light"
     },
     "output_type": "display_data"
    }
   ],
   "source": [
    "plt.figure(figsize=(11,7))\n",
    "sns.heatmap(cbar=False,annot=True,data=california_df.corr()*100,cmap='coolwarm')\n",
    "plt.title('% Corelation Matrix')\n",
    "plt.show()"
   ]
  },
  {
   "cell_type": "code",
   "execution_count": 56,
   "id": "36417971",
   "metadata": {},
   "outputs": [],
   "source": [
    "# широта и долгота имеют сильную отрицательню корреляцию, поэтому можно удалить один из данных признаков.\n",
    "# ср.доход в группе напрямую влияет на целеыой показатель стоимости дома."
   ]
  },
  {
   "cell_type": "code",
   "execution_count": 57,
   "id": "c2ee1c18",
   "metadata": {},
   "outputs": [],
   "source": [
    "california_df.drop(columns=['Latitude'], inplace=True)"
   ]
  },
  {
   "cell_type": "code",
   "execution_count": 58,
   "id": "bfc88aff",
   "metadata": {},
   "outputs": [],
   "source": [
    "columns = ['MedInc',\n",
    "    'HouseAge',\n",
    "    'AveRooms',\n",
    "    'AveBedrms',\n",
    "    'Population',\n",
    "    'AveOccup',\n",
    "    'Longitude'\n",
    "]"
   ]
  },
  {
   "cell_type": "code",
   "execution_count": 59,
   "id": "b456b471",
   "metadata": {},
   "outputs": [
    {
     "name": "stdout",
     "output_type": "stream",
     "text": [
      "RMSE TRAIN: 0.7780221694598236\n",
      "RMSE TEST: 0.8010837880530364\n",
      "R2 TRAIN: 0.5471810575363253\n",
      "R2 TEST: 0.5102786640374892\n"
     ]
    }
   ],
   "source": [
    "get_score(california_df[columns], california_df[target])"
   ]
  },
  {
   "cell_type": "code",
   "execution_count": 60,
   "id": "8d3cd501",
   "metadata": {},
   "outputs": [],
   "source": [
    "# результат ухудшился..... "
   ]
  },
  {
   "cell_type": "markdown",
   "id": "3b315948",
   "metadata": {},
   "source": [
    "Исследуйте оставленные признаки на выбросы.\n",
    "- a. Удалите выбросы в случае обнаружения.\n",
    "- b. Повторите п. 3, п. 4 на измененных данных."
   ]
  },
  {
   "cell_type": "code",
   "execution_count": 61,
   "id": "af3f512b",
   "metadata": {},
   "outputs": [
    {
     "data": {
      "text/html": [
       "<div>\n",
       "<style scoped>\n",
       "    .dataframe tbody tr th:only-of-type {\n",
       "        vertical-align: middle;\n",
       "    }\n",
       "\n",
       "    .dataframe tbody tr th {\n",
       "        vertical-align: top;\n",
       "    }\n",
       "\n",
       "    .dataframe thead th {\n",
       "        text-align: right;\n",
       "    }\n",
       "</style>\n",
       "<table border=\"1\" class=\"dataframe\">\n",
       "  <thead>\n",
       "    <tr style=\"text-align: right;\">\n",
       "      <th></th>\n",
       "      <th>MedInc</th>\n",
       "      <th>HouseAge</th>\n",
       "      <th>AveRooms</th>\n",
       "      <th>AveBedrms</th>\n",
       "      <th>Population</th>\n",
       "      <th>AveOccup</th>\n",
       "      <th>Longitude</th>\n",
       "      <th>price</th>\n",
       "    </tr>\n",
       "  </thead>\n",
       "  <tbody>\n",
       "    <tr>\n",
       "      <th>count</th>\n",
       "      <td>20640.000000</td>\n",
       "      <td>20640.000000</td>\n",
       "      <td>20640.000000</td>\n",
       "      <td>20640.000000</td>\n",
       "      <td>20640.000000</td>\n",
       "      <td>20640.000000</td>\n",
       "      <td>20640.000000</td>\n",
       "      <td>20640.000000</td>\n",
       "    </tr>\n",
       "    <tr>\n",
       "      <th>mean</th>\n",
       "      <td>3.870671</td>\n",
       "      <td>28.639486</td>\n",
       "      <td>5.429000</td>\n",
       "      <td>1.096675</td>\n",
       "      <td>1425.476744</td>\n",
       "      <td>3.070655</td>\n",
       "      <td>-119.569704</td>\n",
       "      <td>2.068558</td>\n",
       "    </tr>\n",
       "    <tr>\n",
       "      <th>std</th>\n",
       "      <td>1.899822</td>\n",
       "      <td>12.585558</td>\n",
       "      <td>2.474173</td>\n",
       "      <td>0.473911</td>\n",
       "      <td>1132.462122</td>\n",
       "      <td>10.386050</td>\n",
       "      <td>2.003532</td>\n",
       "      <td>1.153956</td>\n",
       "    </tr>\n",
       "    <tr>\n",
       "      <th>min</th>\n",
       "      <td>0.499900</td>\n",
       "      <td>1.000000</td>\n",
       "      <td>0.846154</td>\n",
       "      <td>0.333333</td>\n",
       "      <td>3.000000</td>\n",
       "      <td>0.692308</td>\n",
       "      <td>-124.350000</td>\n",
       "      <td>0.149990</td>\n",
       "    </tr>\n",
       "    <tr>\n",
       "      <th>25%</th>\n",
       "      <td>2.563400</td>\n",
       "      <td>18.000000</td>\n",
       "      <td>4.440716</td>\n",
       "      <td>1.006079</td>\n",
       "      <td>787.000000</td>\n",
       "      <td>2.429741</td>\n",
       "      <td>-121.800000</td>\n",
       "      <td>1.196000</td>\n",
       "    </tr>\n",
       "    <tr>\n",
       "      <th>50%</th>\n",
       "      <td>3.534800</td>\n",
       "      <td>29.000000</td>\n",
       "      <td>5.229129</td>\n",
       "      <td>1.048780</td>\n",
       "      <td>1166.000000</td>\n",
       "      <td>2.818116</td>\n",
       "      <td>-118.490000</td>\n",
       "      <td>1.797000</td>\n",
       "    </tr>\n",
       "    <tr>\n",
       "      <th>75%</th>\n",
       "      <td>4.743250</td>\n",
       "      <td>37.000000</td>\n",
       "      <td>6.052381</td>\n",
       "      <td>1.099526</td>\n",
       "      <td>1725.000000</td>\n",
       "      <td>3.282261</td>\n",
       "      <td>-118.010000</td>\n",
       "      <td>2.647250</td>\n",
       "    </tr>\n",
       "    <tr>\n",
       "      <th>max</th>\n",
       "      <td>15.000100</td>\n",
       "      <td>52.000000</td>\n",
       "      <td>141.909091</td>\n",
       "      <td>34.066667</td>\n",
       "      <td>35682.000000</td>\n",
       "      <td>1243.333333</td>\n",
       "      <td>-114.310000</td>\n",
       "      <td>5.000010</td>\n",
       "    </tr>\n",
       "  </tbody>\n",
       "</table>\n",
       "</div>"
      ],
      "text/plain": [
       "             MedInc      HouseAge      AveRooms     AveBedrms    Population  \\\n",
       "count  20640.000000  20640.000000  20640.000000  20640.000000  20640.000000   \n",
       "mean       3.870671     28.639486      5.429000      1.096675   1425.476744   \n",
       "std        1.899822     12.585558      2.474173      0.473911   1132.462122   \n",
       "min        0.499900      1.000000      0.846154      0.333333      3.000000   \n",
       "25%        2.563400     18.000000      4.440716      1.006079    787.000000   \n",
       "50%        3.534800     29.000000      5.229129      1.048780   1166.000000   \n",
       "75%        4.743250     37.000000      6.052381      1.099526   1725.000000   \n",
       "max       15.000100     52.000000    141.909091     34.066667  35682.000000   \n",
       "\n",
       "           AveOccup     Longitude         price  \n",
       "count  20640.000000  20640.000000  20640.000000  \n",
       "mean       3.070655   -119.569704      2.068558  \n",
       "std       10.386050      2.003532      1.153956  \n",
       "min        0.692308   -124.350000      0.149990  \n",
       "25%        2.429741   -121.800000      1.196000  \n",
       "50%        2.818116   -118.490000      1.797000  \n",
       "75%        3.282261   -118.010000      2.647250  \n",
       "max     1243.333333   -114.310000      5.000010  "
      ]
     },
     "execution_count": 61,
     "metadata": {},
     "output_type": "execute_result"
    }
   ],
   "source": [
    "california_df.head()\n",
    "california_df.describe()"
   ]
  },
  {
   "cell_type": "code",
   "execution_count": 62,
   "id": "46636b6a",
   "metadata": {},
   "outputs": [
    {
     "data": {
      "image/png": "[encoded data removed]",
      "text/plain": [
       "<Figure size 1080x360 with 1 Axes>"
      ]
     },
     "metadata": {
      "needs_background": "light"
     },
     "output_type": "display_data"
    }
   ],
   "source": [
    "get_boxplot(california_df, columns=['MedInc']) \n"
   ]
  },
  {
   "cell_type": "code",
   "execution_count": 63,
   "id": "3a7e4fcf",
   "metadata": {},
   "outputs": [
    {
     "data": {
      "text/html": [
       "<div>\n",
       "<style scoped>\n",
       "    .dataframe tbody tr th:only-of-type {\n",
       "        vertical-align: middle;\n",
       "    }\n",
       "\n",
       "    .dataframe tbody tr th {\n",
       "        vertical-align: top;\n",
       "    }\n",
       "\n",
       "    .dataframe thead th {\n",
       "        text-align: right;\n",
       "    }\n",
       "</style>\n",
       "<table border=\"1\" class=\"dataframe\">\n",
       "  <thead>\n",
       "    <tr style=\"text-align: right;\">\n",
       "      <th></th>\n",
       "      <th>MedInc</th>\n",
       "      <th>HouseAge</th>\n",
       "      <th>AveRooms</th>\n",
       "      <th>AveBedrms</th>\n",
       "      <th>Population</th>\n",
       "      <th>AveOccup</th>\n",
       "      <th>Longitude</th>\n",
       "      <th>price</th>\n",
       "    </tr>\n",
       "  </thead>\n",
       "  <tbody>\n",
       "    <tr>\n",
       "      <th>count</th>\n",
       "      <td>20331.000000</td>\n",
       "      <td>20331.000000</td>\n",
       "      <td>20331.000000</td>\n",
       "      <td>20331.000000</td>\n",
       "      <td>20331.000000</td>\n",
       "      <td>20331.000000</td>\n",
       "      <td>20331.000000</td>\n",
       "      <td>20331.000000</td>\n",
       "    </tr>\n",
       "    <tr>\n",
       "      <th>mean</th>\n",
       "      <td>3.749416</td>\n",
       "      <td>28.627318</td>\n",
       "      <td>5.387297</td>\n",
       "      <td>1.097336</td>\n",
       "      <td>1430.880626</td>\n",
       "      <td>3.011484</td>\n",
       "      <td>-119.567536</td>\n",
       "      <td>2.026699</td>\n",
       "    </tr>\n",
       "    <tr>\n",
       "      <th>std</th>\n",
       "      <td>1.623413</td>\n",
       "      <td>12.554780</td>\n",
       "      <td>2.461085</td>\n",
       "      <td>0.476654</td>\n",
       "      <td>1135.305635</td>\n",
       "      <td>5.816168</td>\n",
       "      <td>2.003658</td>\n",
       "      <td>1.108811</td>\n",
       "    </tr>\n",
       "    <tr>\n",
       "      <th>min</th>\n",
       "      <td>0.499900</td>\n",
       "      <td>1.000000</td>\n",
       "      <td>0.846154</td>\n",
       "      <td>0.333333</td>\n",
       "      <td>3.000000</td>\n",
       "      <td>0.692308</td>\n",
       "      <td>-124.350000</td>\n",
       "      <td>0.149990</td>\n",
       "    </tr>\n",
       "    <tr>\n",
       "      <th>25%</th>\n",
       "      <td>2.552200</td>\n",
       "      <td>18.000000</td>\n",
       "      <td>4.427396</td>\n",
       "      <td>1.006414</td>\n",
       "      <td>791.000000</td>\n",
       "      <td>2.427280</td>\n",
       "      <td>-121.785000</td>\n",
       "      <td>1.188000</td>\n",
       "    </tr>\n",
       "    <tr>\n",
       "      <th>50%</th>\n",
       "      <td>3.509600</td>\n",
       "      <td>29.000000</td>\n",
       "      <td>5.206186</td>\n",
       "      <td>1.049046</td>\n",
       "      <td>1170.000000</td>\n",
       "      <td>2.817382</td>\n",
       "      <td>-118.500000</td>\n",
       "      <td>1.778000</td>\n",
       "    </tr>\n",
       "    <tr>\n",
       "      <th>75%</th>\n",
       "      <td>4.675950</td>\n",
       "      <td>37.000000</td>\n",
       "      <td>6.007216</td>\n",
       "      <td>1.100000</td>\n",
       "      <td>1729.000000</td>\n",
       "      <td>3.286035</td>\n",
       "      <td>-118.010000</td>\n",
       "      <td>2.598000</td>\n",
       "    </tr>\n",
       "    <tr>\n",
       "      <th>max</th>\n",
       "      <td>9.907100</td>\n",
       "      <td>52.000000</td>\n",
       "      <td>141.909091</td>\n",
       "      <td>34.066667</td>\n",
       "      <td>35682.000000</td>\n",
       "      <td>599.714286</td>\n",
       "      <td>-114.310000</td>\n",
       "      <td>5.000010</td>\n",
       "    </tr>\n",
       "  </tbody>\n",
       "</table>\n",
       "</div>"
      ],
      "text/plain": [
       "             MedInc      HouseAge      AveRooms     AveBedrms    Population  \\\n",
       "count  20331.000000  20331.000000  20331.000000  20331.000000  20331.000000   \n",
       "mean       3.749416     28.627318      5.387297      1.097336   1430.880626   \n",
       "std        1.623413     12.554780      2.461085      0.476654   1135.305635   \n",
       "min        0.499900      1.000000      0.846154      0.333333      3.000000   \n",
       "25%        2.552200     18.000000      4.427396      1.006414    791.000000   \n",
       "50%        3.509600     29.000000      5.206186      1.049046   1170.000000   \n",
       "75%        4.675950     37.000000      6.007216      1.100000   1729.000000   \n",
       "max        9.907100     52.000000    141.909091     34.066667  35682.000000   \n",
       "\n",
       "           AveOccup     Longitude         price  \n",
       "count  20331.000000  20331.000000  20331.000000  \n",
       "mean       3.011484   -119.567536      2.026699  \n",
       "std        5.816168      2.003658      1.108811  \n",
       "min        0.692308   -124.350000      0.149990  \n",
       "25%        2.427280   -121.785000      1.188000  \n",
       "50%        2.817382   -118.500000      1.778000  \n",
       "75%        3.286035   -118.010000      2.598000  \n",
       "max      599.714286   -114.310000      5.000010  "
      ]
     },
     "execution_count": 63,
     "metadata": {},
     "output_type": "execute_result"
    }
   ],
   "source": [
    "california_df = california_df[(california_df['MedInc'] < 10)]\n",
    "california_df.describe()"
   ]
  },
  {
   "cell_type": "code",
   "execution_count": 64,
   "id": "f1768714",
   "metadata": {},
   "outputs": [
    {
     "data": {
      "image/png": "[encoded data removed]",
      "text/plain": [
       "<Figure size 1080x360 with 1 Axes>"
      ]
     },
     "metadata": {
      "needs_background": "light"
     },
     "output_type": "display_data"
    }
   ],
   "source": [
    "get_boxplot(california_df, columns=['AveRooms'])"
   ]
  },
  {
   "cell_type": "code",
   "execution_count": 65,
   "id": "66f7bc8f",
   "metadata": {},
   "outputs": [
    {
     "data": {
      "text/html": [
       "<div>\n",
       "<style scoped>\n",
       "    .dataframe tbody tr th:only-of-type {\n",
       "        vertical-align: middle;\n",
       "    }\n",
       "\n",
       "    .dataframe tbody tr th {\n",
       "        vertical-align: top;\n",
       "    }\n",
       "\n",
       "    .dataframe thead th {\n",
       "        text-align: right;\n",
       "    }\n",
       "</style>\n",
       "<table border=\"1\" class=\"dataframe\">\n",
       "  <thead>\n",
       "    <tr style=\"text-align: right;\">\n",
       "      <th></th>\n",
       "      <th>MedInc</th>\n",
       "      <th>HouseAge</th>\n",
       "      <th>AveRooms</th>\n",
       "      <th>AveBedrms</th>\n",
       "      <th>Population</th>\n",
       "      <th>AveOccup</th>\n",
       "      <th>Longitude</th>\n",
       "      <th>price</th>\n",
       "    </tr>\n",
       "  </thead>\n",
       "  <tbody>\n",
       "    <tr>\n",
       "      <th>count</th>\n",
       "      <td>19775.000000</td>\n",
       "      <td>19775.000000</td>\n",
       "      <td>19775.000000</td>\n",
       "      <td>19775.000000</td>\n",
       "      <td>19775.000000</td>\n",
       "      <td>19775.000000</td>\n",
       "      <td>19775.000000</td>\n",
       "      <td>19775.000000</td>\n",
       "    </tr>\n",
       "    <tr>\n",
       "      <th>mean</th>\n",
       "      <td>3.709408</td>\n",
       "      <td>28.877674</td>\n",
       "      <td>5.177569</td>\n",
       "      <td>1.061394</td>\n",
       "      <td>1442.794235</td>\n",
       "      <td>2.980460</td>\n",
       "      <td>-119.577744</td>\n",
       "      <td>2.012570</td>\n",
       "    </tr>\n",
       "    <tr>\n",
       "      <th>std</th>\n",
       "      <td>1.577802</td>\n",
       "      <td>12.480362</td>\n",
       "      <td>1.109848</td>\n",
       "      <td>0.109229</td>\n",
       "      <td>1134.742894</td>\n",
       "      <td>4.419521</td>\n",
       "      <td>1.999389</td>\n",
       "      <td>1.094431</td>\n",
       "    </tr>\n",
       "    <tr>\n",
       "      <th>min</th>\n",
       "      <td>0.499900</td>\n",
       "      <td>1.000000</td>\n",
       "      <td>0.846154</td>\n",
       "      <td>0.333333</td>\n",
       "      <td>3.000000</td>\n",
       "      <td>0.750000</td>\n",
       "      <td>-124.350000</td>\n",
       "      <td>0.149990</td>\n",
       "    </tr>\n",
       "    <tr>\n",
       "      <th>25%</th>\n",
       "      <td>2.539850</td>\n",
       "      <td>19.000000</td>\n",
       "      <td>4.403043</td>\n",
       "      <td>1.005175</td>\n",
       "      <td>804.000000</td>\n",
       "      <td>2.428492</td>\n",
       "      <td>-121.795000</td>\n",
       "      <td>1.185000</td>\n",
       "    </tr>\n",
       "    <tr>\n",
       "      <th>50%</th>\n",
       "      <td>3.487500</td>\n",
       "      <td>29.000000</td>\n",
       "      <td>5.164134</td>\n",
       "      <td>1.047344</td>\n",
       "      <td>1181.000000</td>\n",
       "      <td>2.819876</td>\n",
       "      <td>-118.490000</td>\n",
       "      <td>1.774000</td>\n",
       "    </tr>\n",
       "    <tr>\n",
       "      <th>75%</th>\n",
       "      <td>4.636400</td>\n",
       "      <td>37.000000</td>\n",
       "      <td>5.934123</td>\n",
       "      <td>1.095957</td>\n",
       "      <td>1740.500000</td>\n",
       "      <td>3.291182</td>\n",
       "      <td>-118.020000</td>\n",
       "      <td>2.575000</td>\n",
       "    </tr>\n",
       "    <tr>\n",
       "      <th>max</th>\n",
       "      <td>9.893700</td>\n",
       "      <td>52.000000</td>\n",
       "      <td>7.995506</td>\n",
       "      <td>3.099338</td>\n",
       "      <td>35682.000000</td>\n",
       "      <td>599.714286</td>\n",
       "      <td>-114.550000</td>\n",
       "      <td>5.000010</td>\n",
       "    </tr>\n",
       "  </tbody>\n",
       "</table>\n",
       "</div>"
      ],
      "text/plain": [
       "             MedInc      HouseAge      AveRooms     AveBedrms    Population  \\\n",
       "count  19775.000000  19775.000000  19775.000000  19775.000000  19775.000000   \n",
       "mean       3.709408     28.877674      5.177569      1.061394   1442.794235   \n",
       "std        1.577802     12.480362      1.109848      0.109229   1134.742894   \n",
       "min        0.499900      1.000000      0.846154      0.333333      3.000000   \n",
       "25%        2.539850     19.000000      4.403043      1.005175    804.000000   \n",
       "50%        3.487500     29.000000      5.164134      1.047344   1181.000000   \n",
       "75%        4.636400     37.000000      5.934123      1.095957   1740.500000   \n",
       "max        9.893700     52.000000      7.995506      3.099338  35682.000000   \n",
       "\n",
       "           AveOccup     Longitude         price  \n",
       "count  19775.000000  19775.000000  19775.000000  \n",
       "mean       2.980460   -119.577744      2.012570  \n",
       "std        4.419521      1.999389      1.094431  \n",
       "min        0.750000   -124.350000      0.149990  \n",
       "25%        2.428492   -121.795000      1.185000  \n",
       "50%        2.819876   -118.490000      1.774000  \n",
       "75%        3.291182   -118.020000      2.575000  \n",
       "max      599.714286   -114.550000      5.000010  "
      ]
     },
     "execution_count": 65,
     "metadata": {},
     "output_type": "execute_result"
    }
   ],
   "source": [
    "california_df = california_df[(california_df['AveRooms'] < 8)]\n",
    "california_df.describe()"
   ]
  },
  {
   "cell_type": "code",
   "execution_count": 66,
   "id": "716aacce",
   "metadata": {},
   "outputs": [
    {
     "data": {
      "image/png": "[encoded data removed]",
      "text/plain": [
       "<Figure size 1080x360 with 1 Axes>"
      ]
     },
     "metadata": {
      "needs_background": "light"
     },
     "output_type": "display_data"
    }
   ],
   "source": [
    "get_boxplot(california_df, columns=['AveBedrms'])\n",
    "# после удаления выбросов AveRooms данные стали похожи на правду"
   ]
  },
  {
   "cell_type": "code",
   "execution_count": 67,
   "id": "e9d26fb2",
   "metadata": {},
   "outputs": [
    {
     "data": {
      "image/png": "[encoded data removed]",
      "text/plain": [
       "<Figure size 1080x360 with 1 Axes>"
      ]
     },
     "metadata": {
      "needs_background": "light"
     },
     "output_type": "display_data"
    }
   ],
   "source": [
    "get_boxplot(california_df, columns=['Population'])"
   ]
  },
  {
   "cell_type": "code",
   "execution_count": 68,
   "id": "8979a040",
   "metadata": {},
   "outputs": [
    {
     "data": {
      "text/html": [
       "<div>\n",
       "<style scoped>\n",
       "    .dataframe tbody tr th:only-of-type {\n",
       "        vertical-align: middle;\n",
       "    }\n",
       "\n",
       "    .dataframe tbody tr th {\n",
       "        vertical-align: top;\n",
       "    }\n",
       "\n",
       "    .dataframe thead th {\n",
       "        text-align: right;\n",
       "    }\n",
       "</style>\n",
       "<table border=\"1\" class=\"dataframe\">\n",
       "  <thead>\n",
       "    <tr style=\"text-align: right;\">\n",
       "      <th></th>\n",
       "      <th>MedInc</th>\n",
       "      <th>HouseAge</th>\n",
       "      <th>AveRooms</th>\n",
       "      <th>AveBedrms</th>\n",
       "      <th>Population</th>\n",
       "      <th>AveOccup</th>\n",
       "      <th>Longitude</th>\n",
       "      <th>price</th>\n",
       "    </tr>\n",
       "  </thead>\n",
       "  <tbody>\n",
       "    <tr>\n",
       "      <th>count</th>\n",
       "      <td>18914.000000</td>\n",
       "      <td>18914.000000</td>\n",
       "      <td>18914.000000</td>\n",
       "      <td>18914.000000</td>\n",
       "      <td>18914.000000</td>\n",
       "      <td>18914.000000</td>\n",
       "      <td>18914.000000</td>\n",
       "      <td>18914.000000</td>\n",
       "    </tr>\n",
       "    <tr>\n",
       "      <th>mean</th>\n",
       "      <td>3.699931</td>\n",
       "      <td>29.417733</td>\n",
       "      <td>5.175589</td>\n",
       "      <td>1.061077</td>\n",
       "      <td>1274.411230</td>\n",
       "      <td>2.929536</td>\n",
       "      <td>-119.601159</td>\n",
       "      <td>2.014950</td>\n",
       "    </tr>\n",
       "    <tr>\n",
       "      <th>std</th>\n",
       "      <td>1.577982</td>\n",
       "      <td>12.331226</td>\n",
       "      <td>1.101206</td>\n",
       "      <td>0.110885</td>\n",
       "      <td>681.725433</td>\n",
       "      <td>1.080754</td>\n",
       "      <td>2.001355</td>\n",
       "      <td>1.103546</td>\n",
       "    </tr>\n",
       "    <tr>\n",
       "      <th>min</th>\n",
       "      <td>0.499900</td>\n",
       "      <td>1.000000</td>\n",
       "      <td>0.846154</td>\n",
       "      <td>0.333333</td>\n",
       "      <td>3.000000</td>\n",
       "      <td>0.750000</td>\n",
       "      <td>-124.350000</td>\n",
       "      <td>0.149990</td>\n",
       "    </tr>\n",
       "    <tr>\n",
       "      <th>25%</th>\n",
       "      <td>2.533350</td>\n",
       "      <td>19.000000</td>\n",
       "      <td>4.408145</td>\n",
       "      <td>1.003626</td>\n",
       "      <td>787.000000</td>\n",
       "      <td>2.419323</td>\n",
       "      <td>-121.810000</td>\n",
       "      <td>1.173000</td>\n",
       "    </tr>\n",
       "    <tr>\n",
       "      <th>50%</th>\n",
       "      <td>3.477300</td>\n",
       "      <td>30.000000</td>\n",
       "      <td>5.158880</td>\n",
       "      <td>1.046845</td>\n",
       "      <td>1149.000000</td>\n",
       "      <td>2.807539</td>\n",
       "      <td>-118.520000</td>\n",
       "      <td>1.773000</td>\n",
       "    </tr>\n",
       "    <tr>\n",
       "      <th>75%</th>\n",
       "      <td>4.625000</td>\n",
       "      <td>38.000000</td>\n",
       "      <td>5.925787</td>\n",
       "      <td>1.096188</td>\n",
       "      <td>1644.000000</td>\n",
       "      <td>3.276456</td>\n",
       "      <td>-118.030000</td>\n",
       "      <td>2.583000</td>\n",
       "    </tr>\n",
       "    <tr>\n",
       "      <th>max</th>\n",
       "      <td>9.893700</td>\n",
       "      <td>52.000000</td>\n",
       "      <td>7.995506</td>\n",
       "      <td>3.099338</td>\n",
       "      <td>3497.000000</td>\n",
       "      <td>63.750000</td>\n",
       "      <td>-114.550000</td>\n",
       "      <td>5.000010</td>\n",
       "    </tr>\n",
       "  </tbody>\n",
       "</table>\n",
       "</div>"
      ],
      "text/plain": [
       "             MedInc      HouseAge      AveRooms     AveBedrms    Population  \\\n",
       "count  18914.000000  18914.000000  18914.000000  18914.000000  18914.000000   \n",
       "mean       3.699931     29.417733      5.175589      1.061077   1274.411230   \n",
       "std        1.577982     12.331226      1.101206      0.110885    681.725433   \n",
       "min        0.499900      1.000000      0.846154      0.333333      3.000000   \n",
       "25%        2.533350     19.000000      4.408145      1.003626    787.000000   \n",
       "50%        3.477300     30.000000      5.158880      1.046845   1149.000000   \n",
       "75%        4.625000     38.000000      5.925787      1.096188   1644.000000   \n",
       "max        9.893700     52.000000      7.995506      3.099338   3497.000000   \n",
       "\n",
       "           AveOccup     Longitude         price  \n",
       "count  18914.000000  18914.000000  18914.000000  \n",
       "mean       2.929536   -119.601159      2.014950  \n",
       "std        1.080754      2.001355      1.103546  \n",
       "min        0.750000   -124.350000      0.149990  \n",
       "25%        2.419323   -121.810000      1.173000  \n",
       "50%        2.807539   -118.520000      1.773000  \n",
       "75%        3.276456   -118.030000      2.583000  \n",
       "max       63.750000   -114.550000      5.000010  "
      ]
     },
     "execution_count": 68,
     "metadata": {},
     "output_type": "execute_result"
    }
   ],
   "source": [
    "california_df = california_df[(california_df['Population'] < 3500)]\n",
    "california_df.describe()"
   ]
  },
  {
   "cell_type": "code",
   "execution_count": 69,
   "id": "857c2f57",
   "metadata": {},
   "outputs": [
    {
     "data": {
      "image/png": "[encoded data removed]",
      "text/plain": [
       "<Figure size 1080x360 with 1 Axes>"
      ]
     },
     "metadata": {
      "needs_background": "light"
     },
     "output_type": "display_data"
    }
   ],
   "source": [
    "get_boxplot(california_df, columns=['AveOccup'])"
   ]
  },
  {
   "cell_type": "code",
   "execution_count": 70,
   "id": "40f0c035",
   "metadata": {},
   "outputs": [
    {
     "data": {
      "text/html": [
       "<div>\n",
       "<style scoped>\n",
       "    .dataframe tbody tr th:only-of-type {\n",
       "        vertical-align: middle;\n",
       "    }\n",
       "\n",
       "    .dataframe tbody tr th {\n",
       "        vertical-align: top;\n",
       "    }\n",
       "\n",
       "    .dataframe thead th {\n",
       "        text-align: right;\n",
       "    }\n",
       "</style>\n",
       "<table border=\"1\" class=\"dataframe\">\n",
       "  <thead>\n",
       "    <tr style=\"text-align: right;\">\n",
       "      <th></th>\n",
       "      <th>MedInc</th>\n",
       "      <th>HouseAge</th>\n",
       "      <th>AveRooms</th>\n",
       "      <th>AveBedrms</th>\n",
       "      <th>Population</th>\n",
       "      <th>AveOccup</th>\n",
       "      <th>Longitude</th>\n",
       "      <th>price</th>\n",
       "    </tr>\n",
       "  </thead>\n",
       "  <tbody>\n",
       "    <tr>\n",
       "      <th>count</th>\n",
       "      <td>18866.000000</td>\n",
       "      <td>18866.000000</td>\n",
       "      <td>18866.000000</td>\n",
       "      <td>18866.000000</td>\n",
       "      <td>18866.000000</td>\n",
       "      <td>18866.000000</td>\n",
       "      <td>18866.000000</td>\n",
       "      <td>18866.000000</td>\n",
       "    </tr>\n",
       "    <tr>\n",
       "      <th>mean</th>\n",
       "      <td>3.701054</td>\n",
       "      <td>29.417312</td>\n",
       "      <td>5.177054</td>\n",
       "      <td>1.061067</td>\n",
       "      <td>1274.347874</td>\n",
       "      <td>2.901706</td>\n",
       "      <td>-119.601591</td>\n",
       "      <td>2.016093</td>\n",
       "    </tr>\n",
       "    <tr>\n",
       "      <th>std</th>\n",
       "      <td>1.577086</td>\n",
       "      <td>12.323094</td>\n",
       "      <td>1.099736</td>\n",
       "      <td>0.110236</td>\n",
       "      <td>680.874777</td>\n",
       "      <td>0.737049</td>\n",
       "      <td>2.001269</td>\n",
       "      <td>1.103800</td>\n",
       "    </tr>\n",
       "    <tr>\n",
       "      <th>min</th>\n",
       "      <td>0.499900</td>\n",
       "      <td>1.000000</td>\n",
       "      <td>0.846154</td>\n",
       "      <td>0.333333</td>\n",
       "      <td>3.000000</td>\n",
       "      <td>0.750000</td>\n",
       "      <td>-124.350000</td>\n",
       "      <td>0.149990</td>\n",
       "    </tr>\n",
       "    <tr>\n",
       "      <th>25%</th>\n",
       "      <td>2.535325</td>\n",
       "      <td>19.000000</td>\n",
       "      <td>4.409024</td>\n",
       "      <td>1.003744</td>\n",
       "      <td>787.000000</td>\n",
       "      <td>2.417396</td>\n",
       "      <td>-121.810000</td>\n",
       "      <td>1.173000</td>\n",
       "    </tr>\n",
       "    <tr>\n",
       "      <th>50%</th>\n",
       "      <td>3.478050</td>\n",
       "      <td>30.000000</td>\n",
       "      <td>5.159960</td>\n",
       "      <td>1.046845</td>\n",
       "      <td>1149.000000</td>\n",
       "      <td>2.805960</td>\n",
       "      <td>-118.520000</td>\n",
       "      <td>1.775000</td>\n",
       "    </tr>\n",
       "    <tr>\n",
       "      <th>75%</th>\n",
       "      <td>4.625000</td>\n",
       "      <td>38.000000</td>\n",
       "      <td>5.926321</td>\n",
       "      <td>1.096081</td>\n",
       "      <td>1644.000000</td>\n",
       "      <td>3.272489</td>\n",
       "      <td>-118.030000</td>\n",
       "      <td>2.583000</td>\n",
       "    </tr>\n",
       "    <tr>\n",
       "      <th>max</th>\n",
       "      <td>9.893700</td>\n",
       "      <td>52.000000</td>\n",
       "      <td>7.995506</td>\n",
       "      <td>3.099338</td>\n",
       "      <td>3497.000000</td>\n",
       "      <td>6.954023</td>\n",
       "      <td>-114.550000</td>\n",
       "      <td>5.000010</td>\n",
       "    </tr>\n",
       "  </tbody>\n",
       "</table>\n",
       "</div>"
      ],
      "text/plain": [
       "             MedInc      HouseAge      AveRooms     AveBedrms    Population  \\\n",
       "count  18866.000000  18866.000000  18866.000000  18866.000000  18866.000000   \n",
       "mean       3.701054     29.417312      5.177054      1.061067   1274.347874   \n",
       "std        1.577086     12.323094      1.099736      0.110236    680.874777   \n",
       "min        0.499900      1.000000      0.846154      0.333333      3.000000   \n",
       "25%        2.535325     19.000000      4.409024      1.003744    787.000000   \n",
       "50%        3.478050     30.000000      5.159960      1.046845   1149.000000   \n",
       "75%        4.625000     38.000000      5.926321      1.096081   1644.000000   \n",
       "max        9.893700     52.000000      7.995506      3.099338   3497.000000   \n",
       "\n",
       "           AveOccup     Longitude         price  \n",
       "count  18866.000000  18866.000000  18866.000000  \n",
       "mean       2.901706   -119.601591      2.016093  \n",
       "std        0.737049      2.001269      1.103800  \n",
       "min        0.750000   -124.350000      0.149990  \n",
       "25%        2.417396   -121.810000      1.173000  \n",
       "50%        2.805960   -118.520000      1.775000  \n",
       "75%        3.272489   -118.030000      2.583000  \n",
       "max        6.954023   -114.550000      5.000010  "
      ]
     },
     "execution_count": 70,
     "metadata": {},
     "output_type": "execute_result"
    }
   ],
   "source": [
    "california_df = california_df[(california_df['AveOccup'] < 7)]\n",
    "california_df.describe()"
   ]
  },
  {
   "cell_type": "code",
   "execution_count": 71,
   "id": "9ab67209",
   "metadata": {},
   "outputs": [
    {
     "name": "stdout",
     "output_type": "stream",
     "text": [
      "RMSE TRAIN: 0.7088969232788055\n",
      "RMSE TEST: 0.706579643367392\n",
      "R2 TRAIN: 0.5861140665797564\n",
      "R2 TEST: 0.5955855109267445\n"
     ]
    }
   ],
   "source": [
    "get_score(california_df[columns], california_df[target])\n",
    "# модель на тесте выдает более высокий результат, чем на обучении. Результат теста улучшился на 0,1."
   ]
  },
  {
   "cell_type": "markdown",
   "id": "5e22c0b9",
   "metadata": {},
   "source": [
    "Измените несколько признаков на выбор математически. Например, вычислите логарифм, возведите в квадрат, извлеките квадратный корень.\n",
    "- a. Повторите п. 3, п. 4 на измененных данных."
   ]
  },
  {
   "cell_type": "code",
   "execution_count": 72,
   "id": "edbda9d2",
   "metadata": {},
   "outputs": [],
   "source": [
    "# for col in california_df['MedInc']:\n",
    "#     california_df['MedInc_2'] = california_df['MedInc']**2\n",
    "# #     print(california_df)\n",
    "# california_df"
   ]
  },
  {
   "cell_type": "code",
   "execution_count": 73,
   "id": "bc8bd171",
   "metadata": {},
   "outputs": [],
   "source": [
    "california_df['MedInc'] *= california_df['MedInc']"
   ]
  },
  {
   "cell_type": "code",
   "execution_count": 74,
   "id": "44f6b2b8",
   "metadata": {},
   "outputs": [],
   "source": [
    "california_df['AveOccup'] *= 1.5"
   ]
  },
  {
   "cell_type": "code",
   "execution_count": 75,
   "id": "64022b7f",
   "metadata": {},
   "outputs": [],
   "source": [
    "california_df['HouseAge'] /= 1.5"
   ]
  },
  {
   "cell_type": "code",
   "execution_count": 76,
   "id": "6ea05fe6",
   "metadata": {},
   "outputs": [
    {
     "data": {
      "text/html": [
       "<div>\n",
       "<style scoped>\n",
       "    .dataframe tbody tr th:only-of-type {\n",
       "        vertical-align: middle;\n",
       "    }\n",
       "\n",
       "    .dataframe tbody tr th {\n",
       "        vertical-align: top;\n",
       "    }\n",
       "\n",
       "    .dataframe thead th {\n",
       "        text-align: right;\n",
       "    }\n",
       "</style>\n",
       "<table border=\"1\" class=\"dataframe\">\n",
       "  <thead>\n",
       "    <tr style=\"text-align: right;\">\n",
       "      <th></th>\n",
       "      <th>MedInc</th>\n",
       "      <th>HouseAge</th>\n",
       "      <th>AveRooms</th>\n",
       "      <th>AveBedrms</th>\n",
       "      <th>Population</th>\n",
       "      <th>AveOccup</th>\n",
       "      <th>Longitude</th>\n",
       "      <th>price</th>\n",
       "    </tr>\n",
       "  </thead>\n",
       "  <tbody>\n",
       "    <tr>\n",
       "      <th>0</th>\n",
       "      <td>69.308955</td>\n",
       "      <td>27.333333</td>\n",
       "      <td>6.984127</td>\n",
       "      <td>1.023810</td>\n",
       "      <td>322.0</td>\n",
       "      <td>3.833333</td>\n",
       "      <td>-122.23</td>\n",
       "      <td>4.526</td>\n",
       "    </tr>\n",
       "    <tr>\n",
       "      <th>1</th>\n",
       "      <td>68.913242</td>\n",
       "      <td>14.000000</td>\n",
       "      <td>6.238137</td>\n",
       "      <td>0.971880</td>\n",
       "      <td>2401.0</td>\n",
       "      <td>3.164763</td>\n",
       "      <td>-122.22</td>\n",
       "      <td>3.585</td>\n",
       "    </tr>\n",
       "    <tr>\n",
       "      <th>3</th>\n",
       "      <td>31.844578</td>\n",
       "      <td>34.666667</td>\n",
       "      <td>5.817352</td>\n",
       "      <td>1.073059</td>\n",
       "      <td>558.0</td>\n",
       "      <td>3.821918</td>\n",
       "      <td>-122.25</td>\n",
       "      <td>3.413</td>\n",
       "    </tr>\n",
       "    <tr>\n",
       "      <th>4</th>\n",
       "      <td>14.793254</td>\n",
       "      <td>34.666667</td>\n",
       "      <td>6.281853</td>\n",
       "      <td>1.081081</td>\n",
       "      <td>565.0</td>\n",
       "      <td>3.272201</td>\n",
       "      <td>-122.25</td>\n",
       "      <td>3.422</td>\n",
       "    </tr>\n",
       "    <tr>\n",
       "      <th>5</th>\n",
       "      <td>16.295754</td>\n",
       "      <td>34.666667</td>\n",
       "      <td>4.761658</td>\n",
       "      <td>1.103627</td>\n",
       "      <td>413.0</td>\n",
       "      <td>3.209845</td>\n",
       "      <td>-122.25</td>\n",
       "      <td>2.697</td>\n",
       "    </tr>\n",
       "  </tbody>\n",
       "</table>\n",
       "</div>"
      ],
      "text/plain": [
       "      MedInc   HouseAge  AveRooms  AveBedrms  Population  AveOccup  Longitude  \\\n",
       "0  69.308955  27.333333  6.984127   1.023810       322.0  3.833333    -122.23   \n",
       "1  68.913242  14.000000  6.238137   0.971880      2401.0  3.164763    -122.22   \n",
       "3  31.844578  34.666667  5.817352   1.073059       558.0  3.821918    -122.25   \n",
       "4  14.793254  34.666667  6.281853   1.081081       565.0  3.272201    -122.25   \n",
       "5  16.295754  34.666667  4.761658   1.103627       413.0  3.209845    -122.25   \n",
       "\n",
       "   price  \n",
       "0  4.526  \n",
       "1  3.585  \n",
       "3  3.413  \n",
       "4  3.422  \n",
       "5  2.697  "
      ]
     },
     "execution_count": 76,
     "metadata": {},
     "output_type": "execute_result"
    }
   ],
   "source": [
    "california_df.head()"
   ]
  },
  {
   "cell_type": "code",
   "execution_count": 77,
   "id": "c2faca05",
   "metadata": {},
   "outputs": [
    {
     "name": "stdout",
     "output_type": "stream",
     "text": [
      "RMSE TRAIN: 0.7338769487872819\n",
      "RMSE TEST: 0.7282878917552756\n",
      "R2 TRAIN: 0.5564312143573434\n",
      "R2 TEST: 0.5703541279259532\n"
     ]
    }
   ],
   "source": [
    "get_score(california_df[columns], california_df[target])\n",
    "# точность модели снизилась, ошибка выросла."
   ]
  },
  {
   "cell_type": "markdown",
   "id": "8a8deae5",
   "metadata": {},
   "source": [
    "### результат прогнозирования чуть выше среднего, что говорит о недостаточной обработке данных или не правильно подобранной модели. \n"
   ]
  },
  {
   "cell_type": "code",
   "execution_count": null,
   "id": "31fe04ec",
   "metadata": {},
   "outputs": [],
   "source": []
  },
  {
   "cell_type": "code",
   "execution_count": null,
   "id": "17953446",
   "metadata": {},
   "outputs": [],
   "source": []
  },
  {
   "cell_type": "code",
   "execution_count": null,
   "id": "314b3b6d",
   "metadata": {},
   "outputs": [],
   "source": []
  },
  {
   "cell_type": "code",
   "execution_count": null,
   "id": "985e9e78",
   "metadata": {},
   "outputs": [],
   "source": []
  },
  {
   "cell_type": "code",
   "execution_count": null,
   "id": "5c968a70",
   "metadata": {},
   "outputs": [],
   "source": []
  }
 ],
 "metadata": {
  "kernelspec": {
   "display_name": "Python 3 (ipykernel)",
   "language": "python",
   "name": "python3"
  },
  "language_info": {
   "codemirror_mode": {
    "name": "ipython",
    "version": 3
   },
   "file_extension": ".py",
   "mimetype": "text/x-python",
   "name": "python",
   "nbconvert_exporter": "python",
   "pygments_lexer": "ipython3",
   "version": "3.9.12"
  }
 },
 "nbformat": 4,
 "nbformat_minor": 5
}
